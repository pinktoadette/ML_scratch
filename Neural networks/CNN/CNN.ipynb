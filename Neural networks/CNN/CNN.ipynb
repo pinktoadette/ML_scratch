{
 "cells": [
  {
   "cell_type": "markdown",
   "metadata": {},
   "source": [
    "# Convolutional Neural Network\n",
    "\n",
    "Basic concepts:\n",
    "* CNN involves different layers.Each of the layer connects to each other, hence network!\n",
    "* Pooling: Pooling is  process to reduce spatial volume of an image. It can take the max of the pool or the average. The pool is consist of nxm\n",
    "* Filters: set of weights which are learned, such as edges of an image. These filters are what actually detects the pattern on an input.\n",
    "* Input: Input of a shape, such as (batch_size, height, width, depth)\n",
    "* Feedforward: \n",
    "* Backpropation: Calculate the error between prediced output and target and then update the weight values using gradient descent.\n",
    "* Activation function: sigmoid, tanh, ReLu, Leaky ReLu (has a kink in ReLu)\n",
    "* Loss function: it can be log-loss or "
   ]
  }
 ],
 "metadata": {
  "kernelspec": {
   "display_name": "Python 3",
   "language": "python",
   "name": "python3"
  },
  "language_info": {
   "codemirror_mode": {
    "name": "ipython",
    "version": 3
   },
   "file_extension": ".py",
   "mimetype": "text/x-python",
   "name": "python",
   "nbconvert_exporter": "python",
   "pygments_lexer": "ipython3",
   "version": "3.7.7"
  }
 },
 "nbformat": 4,
 "nbformat_minor": 4
}
