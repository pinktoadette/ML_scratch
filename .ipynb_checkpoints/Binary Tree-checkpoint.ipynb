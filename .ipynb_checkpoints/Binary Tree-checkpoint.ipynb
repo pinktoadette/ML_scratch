{
 "cells": [
  {
   "cell_type": "markdown",
   "metadata": {},
   "source": [
    "# Binary Tree Classifier\n"
   ]
  },
  {
   "cell_type": "markdown",
   "metadata": {},
   "source": [
    "Binary tree\n",
    "- split X according to entropy\n",
    "- once split, move left or right"
   ]
  },
  {
   "attachments": {
    "entropy.PNG": {
     "image/png": "[encoded data removed]"
    }
   },
   "cell_type": "markdown",
   "metadata": {},
   "source": [
    "### Entropy\n",
    "Calculate the entropy of each node;\n",
    "where proportion is the observed at the node\n",
    "\n",
    "![entropy.PNG](attachment:entropy.PNG)"
   ]
  },
  {
   "cell_type": "code",
   "execution_count": 5,
   "metadata": {},
   "outputs": [],
   "source": [
    "def entropy(class1, class2):\n",
    "    if class1 == 0 or class2 == 0:\n",
    "        return 0\n",
    "    total = class1 + class2\n",
    "    proportion1 = class1/total\n",
    "    proportion2 = class2/total\n",
    "    return sum([-1 * prop * np.log2(prop) for prop in [proportion1, proportion2] ])"
   ]
  },
  {
   "cell_type": "markdown",
   "metadata": {},
   "source": [
    "Finds the number of classes at each node"
   ]
  },
  {
   "cell_type": "code",
   "execution_count": 7,
   "metadata": {},
   "outputs": [],
   "source": [
    "def node_classes(col, split_value, labels):\n",
    "    le_node = labels[col <= split_value]\n",
    "    gt_node = labels[col > split_value]\n",
    "    le_c1 = np.count_nonzero(le_node)\n",
    "    le_c2 = len(le_node) - le_c1\n",
    "    g_c1 = np.count_nonzero(g_node)\n",
    "    g_c2 = len(g_node) - g_c1\n",
    "    return le_c1, le_c2, g_c1, g_c2\n"
   ]
  },
  {
   "cell_type": "markdown",
   "metadata": {},
   "source": [
    "Split the columns by finding the midpoint of two points"
   ]
  },
  {
   "cell_type": "code",
   "execution_count": 16,
   "metadata": {},
   "outputs": [],
   "source": [
    "def locate_splits(cols):\n",
    "    np_sort = np.sort(np.unique(col))\n",
    "    result = []\n",
    "    for i, j in zip(np_sort, np_sort[1:]):\n",
    "        result.append((i+j)/2)\n",
    "    return np.asarray(result)\n"
   ]
  },
  {
   "cell_type": "markdown",
   "metadata": {},
   "source": [
    "Split based on the proportion from the entropy. A value is split based on less than and equal to vs greater than."
   ]
  },
  {
   "cell_type": "code",
   "execution_count": null,
   "metadata": {},
   "outputs": [],
   "source": [
    "def entropy_from_split(col, split, labels):\n",
    "    le_c1, le_c2, g_c1, g_c2 = node_classes(col, split_value, labels)\n",
    "    total = len(col)\n",
    "    p_g = (g_c1 + g_c2) / total\n",
    "    p_le = (le_c1+ le_c2) / total\n",
    "    return (p_le * entropy(le_c1, le_c2)) + (p_g * entropy(g_c1, g_c2))\n"
   ]
  },
  {
   "cell_type": "markdown",
   "metadata": {},
   "source": [
    "left_pred is the majority class of labels where observations are <= split_value\n",
    "right_pred is the majority class of labels where observations are > split_value"
   ]
  },
  {
   "cell_type": "code",
   "execution_count": 17,
   "metadata": {},
   "outputs": [],
   "source": [
    "def prediction_from_split(X,y, col_idx, split):\n",
    "    le_c1, le_c2, g_c1, g_c2 = node_classes(X[:,col_idx], split_value, y)\n",
    "\n",
    "    def pred_for_node(cl1, cl2):\n",
    "        if cl1 > cl2: return True\n",
    "        elif cl1 < cl2: return False\n",
    "        else: return None\n",
    "\n",
    "    left = pred_for_node(le_c1,le_c2)\n",
    "    right = pred_for_node(g_c1, g_c2)\n",
    "\n",
    "    if ((right == None) or (left == None)) and (right != left):\n",
    "\n",
    "        if left == None:\n",
    "            left = not right\n",
    "        else:\n",
    "            right = not left\n",
    "\n",
    "    if (right == None) and (left == None):\n",
    "        right = True; left = True\n",
    "\n",
    "    return (int(left), int(right))\n"
   ]
  },
  {
   "cell_type": "code",
   "execution_count": 2,
   "metadata": {},
   "outputs": [],
   "source": [
    "def binary_tree_fit(X,y):\n",
    "    best_split = (-1,-1,1)\n",
    "\n",
    "    for col_idx, col in enumerate(X.T):\n",
    "        splits = locate_splits(col)\n",
    "\n",
    "    for s in splits:\n",
    "        entrop = entropy_split(col, s, y)\n",
    "\n",
    "        if entrop < best_split[2]:\n",
    "            best_split = (col_idx, s, ent)\n",
    "    \n",
    "    left_pred, right_pred = prediction_from_split(X, y, *best_split[:2])\n",
    "    col_idx, split_value = best_split[:2]\n",
    "\n",
    "    return col_idx, split_value, left_pred, right_pred\n"
   ]
  },
  {
   "cell_type": "code",
   "execution_count": 10,
   "metadata": {},
   "outputs": [],
   "source": [
    "def binary_tree_predict(X, idx, split, left, right):\n",
    "    # take out column\n",
    "    col = X[:,idx]\n",
    "\n",
    "    if left == right:\n",
    "        preds = np.ones(len(col))\n",
    "        preds *= int(left)\n",
    "\n",
    "    # return 1's where col is <= split\n",
    "    # otherwise, 1's where col is > split\n",
    "    elif left:\n",
    "        preds = (col<= split)*1\n",
    "    else:\n",
    "        preds = (col >split)*1\n",
    "\n",
    "    return preds\n"
   ]
  },
  {
   "cell_type": "code",
   "execution_count": null,
   "metadata": {},
   "outputs": [],
   "source": []
  }
 ],
 "metadata": {
  "kernelspec": {
   "display_name": "Python 3",
   "language": "python",
   "name": "python3"
  },
  "language_info": {
   "codemirror_mode": {
    "name": "ipython",
    "version": 3
   },
   "file_extension": ".py",
   "mimetype": "text/x-python",
   "name": "python",
   "nbconvert_exporter": "python",
   "pygments_lexer": "ipython3",
   "version": "3.7.7"
  }
 },
 "nbformat": 4,
 "nbformat_minor": 2
}
