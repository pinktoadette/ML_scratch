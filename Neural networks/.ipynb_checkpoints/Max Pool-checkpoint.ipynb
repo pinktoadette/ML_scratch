{
 "cells": [
  {
   "cell_type": "markdown",
   "metadata": {},
   "source": [
    "## Maxpool\n",
    "\n",
    "Define functions for maxpooling, maxpool forward and back"
   ]
  },
  {
   "cell_type": "code",
   "execution_count": 2,
   "metadata": {},
   "outputs": [],
   "source": [
    "def max_pool(image):\n",
    "    \"\"\"\n",
    "    \n",
    "    \"\"\"\n",
    "    height, width = image.shape\n",
    "    \n",
    "    for h in range(height//2):\n",
    "        for w in range(width//2):\n",
    "            area = image[(i * 2):(i * 2 + 2), (j * 2):(j * 2 + 2)]\n",
    "            yield area, i, j"
   ]
  },
  {
   "cell_type": "code",
   "execution_count": 3,
   "metadata": {},
   "outputs": [],
   "source": [
    "def max_forward(input):\n",
    "    last_input = input\n",
    "\n",
    "    h, w, num_filters = input.shape\n",
    "    output = np.zeros((h // 2, w // 2, num_filters))\n",
    "\n",
    "    for area, i, j in iterate_regions(input):\n",
    "        output[i, j] = np.amax(area, axis=(0, 1))\n",
    "\n",
    "    return output"
   ]
  },
  {
   "cell_type": "code",
   "execution_count": null,
   "metadata": {},
   "outputs": [],
   "source": [
    "def max_backprop(loss_gradient_layer):\n",
    "    return"
   ]
  }
 ],
 "metadata": {
  "kernelspec": {
   "display_name": "Python 3",
   "language": "python",
   "name": "python3"
  },
  "language_info": {
   "codemirror_mode": {
    "name": "ipython",
    "version": 3
   },
   "file_extension": ".py",
   "mimetype": "text/x-python",
   "name": "python",
   "nbconvert_exporter": "python",
   "pygments_lexer": "ipython3",
   "version": "3.7.7"
  }
 },
 "nbformat": 4,
 "nbformat_minor": 4
}
