{
 "cells": [
  {
   "attachments": {
    "euclidean.PNG": {
     "image/png": "[encoded data removed]"
    }
   },
   "cell_type": "markdown",
   "metadata": {},
   "source": [
    "# KNN\n",
    "\n",
    "KNN is a simple algorithm that looks at the distance between a point and its <b>nearest neighbor</b>! \n",
    "\n",
    "The most commonly used distance is the euclidean distance.\n",
    "![euclidean.PNG](attachment:euclidean.PNG)"
   ]
  },
  {
   "cell_type": "code",
   "execution_count": 1,
   "metadata": {},
   "outputs": [],
   "source": [
    "def euclid_dist(point1, point2):\n",
    "    distance = 0\n",
    "    for a, b in zip(point1,point2):\n",
    "        distance += (a-b)**2\n",
    "    return distance**.5\n"
   ]
  },
  {
   "cell_type": "markdown",
   "metadata": {},
   "source": [
    "A better approach is to calculate `linalg.norm` by looking at one point to the entire dataset."
   ]
  },
  {
   "cell_type": "code",
   "execution_count": 2,
   "metadata": {},
   "outputs": [],
   "source": [
    "def all_distances(point, data_set):\n",
    "    diff = point - data_set\n",
    "    result = np.apply_along_axis(np.linalg.norm, 1, diff )\n",
    "    all_distances = np.sort(result)\n",
    "    return all_distances\n"
   ]
  },
  {
   "cell_type": "markdown",
   "metadata": {},
   "source": [
    "For each point, it gets a voting, could be a majority voting or a weighted voting.\n",
    "Ties are infrequent."
   ]
  },
  {
   "cell_type": "code",
   "execution_count": 3,
   "metadata": {},
   "outputs": [],
   "source": [
    "from collections import Counter\n",
    "\n",
    "def label_voting(labels):\n",
    "    labels = list(labels)\n",
    "    c = Counter(labels).most_common()\n",
    "    if len(c) == 1:\n",
    "        return c[0][0]\n",
    "    if c[0][1] > c[1][1]:\n",
    "        return c[0][0]\n",
    "    \n",
    "    top_votes = c[0][1]\n",
    "    votes_pos = []\n",
    "    for t in c:\n",
    "        if t[1] == top_votes:\n",
    "            votes_pos.append(t[0])\n",
    "    idx = dict()\n",
    "    \n",
    "    for p in votes_pos:\n",
    "        idx[labels.index(p)] = p\n",
    "        \n",
    "    return labels[sorted(idx.keys())[0]]\n"
   ]
  },
  {
   "cell_type": "code",
   "execution_count": 4,
   "metadata": {},
   "outputs": [],
   "source": [
    "def KNN(point, X, y, n):\n",
    "\n",
    "    diff = point - X\n",
    "\n",
    "    dists = np.apply_along_axis(np.linalg.norm, 1, diff )\n",
    "\n",
    "    df = pd.DataFrame(dists)\n",
    "    df.index = X_train.index\n",
    "\n",
    "    df = pd.concat([df, y_train], axis = 1)\n",
    "\n",
    "    votes = list(df.sort_values(\"dist\").head(n)['label'])\n",
    "    return label_voting(votes)\n"
   ]
  },
  {
   "cell_type": "markdown",
   "metadata": {},
   "source": []
  }
 ],
 "metadata": {
  "kernelspec": {
   "display_name": "Python 3",
   "language": "python",
   "name": "python3"
  },
  "language_info": {
   "codemirror_mode": {
    "name": "ipython",
    "version": 3
   },
   "file_extension": ".py",
   "mimetype": "text/x-python",
   "name": "python",
   "nbconvert_exporter": "python",
   "pygments_lexer": "ipython3",
   "version": "3.7.7"
  }
 },
 "nbformat": 4,
 "nbformat_minor": 4
}
