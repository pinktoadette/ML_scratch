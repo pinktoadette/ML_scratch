{
 "cells": [
  {
   "cell_type": "markdown",
   "metadata": {},
   "source": [
    "# Logistic Regression\n",
    "\n",
    "Logistic regression is a binary classification.\n",
    "\n",
    "We will first look at the sigmoid function, calculate gradient of log-likelihood\n",
    "\n"
   ]
  },
  {
   "attachments": {
    "s-curve.PNG": {
     "image/png": "[encoded data removed]"
    }
   },
   "cell_type": "markdown",
   "metadata": {},
   "source": [
    "S-curve, or I call it s-curve, which is a curve that is s-shaped! For binary classification, a point in observation would lie somewhere on the s-curve, it can go toward 0 or toward 1. Hence, binary!\n",
    "\n",
    "![s-curve.PNG](attachment:s-curve.PNG)"
   ]
  },
  {
   "cell_type": "code",
   "execution_count": null,
   "metadata": {},
   "outputs": [],
   "source": [
    "def sigmoid(x, y, w):\n",
    "    exponent = y*np.matmul(x.T,w)\n",
    "    if exponent > 709.782:\n",
    "        return 1\n",
    "    exp = np.exp(exponent)\n",
    "    return exp / (1+exp)\n"
   ]
  },
  {
   "cell_type": "markdown",
   "metadata": {},
   "source": [
    "The rest of the sigmoid is calculate the gradient of the log-likelihood"
   ]
  },
  {
   "cell_type": "code",
   "execution_count": 3,
   "metadata": {},
   "outputs": [],
   "source": [
    "def sum_sigmoid(x,y,w):\n",
    "    return (1- sigmoid(x,y,w))*y*x\n"
   ]
  },
  {
   "cell_type": "markdown",
   "metadata": {},
   "source": [
    "Sum all the gradient of the log-likelihood"
   ]
  },
  {
   "cell_type": "code",
   "execution_count": 4,
   "metadata": {},
   "outputs": [],
   "source": [
    "def sigmoid_sum(X, y, w):\n",
    "    gradient = np.zeros(len(w))\n",
    "    \n",
    "    for x, y in zip (X, y):\n",
    "        gradient += sum_sigmoid(x, y, w)\n",
    "    return gradient"
   ]
  },
  {
   "cell_type": "markdown",
   "metadata": {},
   "source": [
    "Finding the logistic regression weights"
   ]
  },
  {
   "cell_type": "code",
   "execution_count": 6,
   "metadata": {},
   "outputs": [],
   "source": [
    "def weights(X, y, w, eta):\n",
    "    return w + (eta * sigmoid_sum(X, y, w))\n",
    "\n",
    "\n",
    "def logistic(X, weights):\n",
    "    x_input = np.insert(x_input, 0, 1)\n",
    "    prod = np.matmul(x_input,weights)\n",
    "    if prod > 0:\n",
    "        return 1\n",
    "    return -1\n"
   ]
  }
 ],
 "metadata": {
  "kernelspec": {
   "display_name": "Python 3",
   "language": "python",
   "name": "python3"
  },
  "language_info": {
   "codemirror_mode": {
    "name": "ipython",
    "version": 3
   },
   "file_extension": ".py",
   "mimetype": "text/x-python",
   "name": "python",
   "nbconvert_exporter": "python",
   "pygments_lexer": "ipython3",
   "version": "3.7.7"
  }
 },
 "nbformat": 4,
 "nbformat_minor": 4
}
